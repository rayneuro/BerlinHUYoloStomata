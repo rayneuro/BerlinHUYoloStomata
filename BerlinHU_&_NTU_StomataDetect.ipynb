{
  "cells": [
    {
      "cell_type": "markdown",
      "metadata": {
        "id": "bYMPm3NIyufI"
      },
      "source": [
        "# Prerequisites\n",
        "Before running this notebook, ensure the following:\n",
        "\n",
        "### Python version \n",
        "Python 3.9 or later is recommended for compatibility and performance.\n",
        "### System requirements\n",
        "A machine equipped with a modern NVIDIA GPU is strongly recommended for efficient prediction (e.g., NVIDIA T4, V100, or A100). \n",
        "\n",
        "    Note: If your local machine does not have a suitable GPU, you can use free cloud services like Google Colab, which occasionally provides access to GPUs such as Tesla T4. See the optional section below for how to check and use Colab’s GPU resources.\n",
        "\n",
        "## (Optional) Guide to Changing the Runtime to Use a T4 GPU in Google Colab\n",
        "**Use the GPU for accelerate the runtime of prediction**\n",
        "\n",
        "Google Colab provides access to different types of hardware accelerators, including GPUs. Follow this guide to ensure you're using a **T4 GPU** for your machine learning tasks.\n",
        "\n",
        "## Step-by-Step Instructions\n",
        "\n",
        "### 1. Open the Colab Notebook\n",
        "\n",
        "- Start by opening your Colab notebook or create a new one by going to [Google Colab](https://colab.research.google.com/).\n",
        "\n",
        "### 2. Access Runtime Settings\n",
        "\n",
        "- At the top of the notebook interface, click on the **Runtime** tab.\n",
        "- In the dropdown menu, select **Change runtime type**.\n",
        "\n",
        "### 3. Select GPU as the Hardware Accelerator\n",
        "\n",
        "- In the \"Runtime type\" window, look for the **Hardware accelerator** option.\n",
        "- From the dropdown menu, select **GPU** (if it's not already selected).\n",
        "\n",
        "### 4. Confirm GPU Type (T4 GPU)\n",
        "\n",
        "Google Colab provides different types of GPUs, and T4 is one of the options. To confirm that your environment is using a **T4 GPU**, follow these steps:\n",
        "\n",
        "1. Run the following code in a new code cell to check the current GPU type:\n",
        "\n",
        "    ```python\n",
        "    !nvidia-smi\n",
        "    ```\n",
        "\n",
        "    If a **T4** GPU is available, the output will display **Tesla T4**. If a different type of GPU is shown (e.g., P100 or K80), try resetting your runtime or wait for a new session to assign a T4.\n",
        "\n",
        "2. You can reset the runtime by selecting **Runtime** > **Factory reset runtime** or by disconnecting and reconnecting from the **Runtime** tab.\n",
        "\n",
        "### 5. Verify the T4 GPU Usage\n",
        "\n",
        "Once you have confirmed you're using a T4 GPU, run this command again to ensure you're connected:\n",
        "\n",
        "```python\n",
        "!nvidia-smi\n"
      ]
    },
    {
      "cell_type": "code",
      "execution_count": null,
      "metadata": {
        "colab": {
          "base_uri": "https://localhost:8080/"
        },
        "id": "BVQ6aqrN407E",
        "outputId": "493ede47-d43c-4a50-e01b-224f188f60c5"
      },
      "outputs": [],
      "source": [
        "# If you are not using Google Colab, you do not need to run this, please proceed directly to the next step (Cloning the repository).\n",
        "!nvidia-smi\n",
        "%pwd"
      ]
    },
    {
      "cell_type": "markdown",
      "metadata": {
        "id": "rXoeln-CS9e9"
      },
      "source": [
        "# BerlinHUYoloStomata Repository\n",
        "\n",
        "This repository contains the BerlinHUYoloStomata project, which involves research and development on the Yolo model for stomata detection in wheat plants.\n",
        "\n",
        "## Cloning the Repository\n",
        "\n",
        "To clone this repository to your local machine, follow these steps:\n",
        "\n",
        "### Prerequisites\n",
        "\n",
        "Ensure you have **Git** installed on your system. You can verify it by running the following command in your terminal:\n",
        "``` bash\n",
        "git --version\n",
        "```\n",
        "If Git is installed correctly, you will see an output like:\n",
        "``` bash\n",
        "git version 2.42.0\n",
        "```\n",
        "If you see an error such as command not found, you can download and install Git from the official website: https://git-scm.com/downloads\n",
        "\n",
        "Colab has git built-in."
      ]
    },
    {
      "cell_type": "code",
      "execution_count": null,
      "metadata": {
        "colab": {
          "base_uri": "https://localhost:8080/"
        },
        "id": "Wc2AqEy3O1iS",
        "outputId": "0c0073d3-1b93-405c-f02a-a197be2bcb1d"
      },
      "outputs": [],
      "source": [
        "!git clone https://github.com/rayneuro/BerlinHUYoloStomata.git"
      ]
    },
    {
      "cell_type": "code",
      "execution_count": null,
      "metadata": {
        "colab": {
          "base_uri": "https://localhost:8080/"
        },
        "id": "Hdt7yzdAPcOw",
        "outputId": "895169c7-0f7c-4759-ca75-82bf9dabdcfd"
      },
      "outputs": [],
      "source": [
        "\n",
        "%ls\n",
        "%cd BerlinHUYoloStomata"
      ]
    },
    {
      "cell_type": "markdown",
      "metadata": {},
      "source": [
        "### Run Prediction\n",
        "\n",
        "To perform predictions using the trained model, update the image or folder path in the code below.\n",
        "\n",
        "**Remember to change 'PATH_TO_YOUR_IMAGE_OR_FOLDER' to your actual path!**\n",
        "\n",
        "Your predictions will be saved in ultralytics/runs/obb/PREDICTION_FOLDER_NAME/"
      ]
    },
    {
      "cell_type": "code",
      "execution_count": null,
      "metadata": {
        "colab": {
          "base_uri": "https://localhost:8080/"
        },
        "id": "Gl1CLLAsPpQC",
        "outputId": "120ad530-2613-42ef-abac-3c42335c4217"
      },
      "outputs": [],
      "source": [
        "from ultralytics import YOLO\n",
        "\n",
        "# Load the trained model\n",
        "model = YOLO('./ultralytics/runs/obb/BerlinHU-T22Without2_RayEn/weights/best.pt')\n",
        "\n",
        "# Run prediction\n",
        "model.predict(\n",
        "    source='PATH_TO_YOUR_IMAGE_OR_FOLDER',  # Replace this with your actual image or folder path\n",
        "    name='PREDICTION_FOLDER_NAME',          # Output folder name under runs/obb/PREDICTION_FOLDER_NAME\n",
        "    save=True,                              # Save predicted images\n",
        "    save_txt=True,                          # Save bounding box coordinates in YOLO txt format\n",
        "    save_json=True,                         # Save predictions in COCO JSON format\n",
        "    save_conf=True,                         # Save confidence scores\n",
        "    show_conf=False                         # Do not show confidence on image\n",
        ")"
      ]
    },
    {
      "cell_type": "markdown",
      "metadata": {
        "id": "4nSf2skZS0t_"
      },
      "source": [
        "# Converting YOLOv8 OBB Format `.txt` Files to `.csv`\n",
        "\n",
        "This guide explains how to convert YOLOv8 Oriented Bounding Box (OBB) format `.txt` files into a `.csv` file format for easier analysis or processing.\n",
        "\n",
        "## YOLOv8 OBB `.txt` File Format\n",
        "\n",
        "In the YOLOv8 OBB `.txt` format, each line in the file corresponds to a detected object in an image, with the following structure:\n",
        "\n",
        "Where:\n",
        "- `class_id`: The class label of the detected object.\n",
        "- `x1, y1`, `x2, y2`, `x3, y3`, `x4, y4`: The coordinates of the four corners of the oriented bounding box.\n",
        "- `confidence`: The confidence score of the detection.\n",
        "\n",
        "\n",
        "Convert to\n",
        "- `center x` , `center y` : The center of the rotated bounding box\n",
        "- `w` , `h` : the width and height of rotated bounding box  \n",
        "- `angle` : the angle of rotate\n",
        "\n"
      ]
    },
    {
      "cell_type": "markdown",
      "metadata": {
        "id": "qCpoRHGOvZLb"
      },
      "source": []
    },
    {
      "cell_type": "code",
      "execution_count": null,
      "metadata": {
        "id": "nT0Nl7UaRrqn"
      },
      "outputs": [],
      "source": [
        "%ls\n",
        "\n",
        "import os\n",
        "import pandas as pd\n",
        "import math\n",
        "import numpy as np\n",
        "\n",
        "# Function to convert the coordinate to cx ,cy , h , w\n",
        "def get_angle(x1,y1,x2,y2,x3,y3,x4,y4):\n",
        "    if x2-x1 != 0 and x4-x3 != 0:\n",
        "        theta = (math.atan((y2-y1)/(x2-x1)) + math.atan((y4-y3)/(x4-x3)))/2\n",
        "    else:\n",
        "        theta = np.pi/2\n",
        "\n",
        "    if theta >= 0:\n",
        "        angle = theta\n",
        "    else:\n",
        "        angle = theta + np.pi\n",
        "    return angle,theta\n",
        "\n",
        "\n",
        "def get_w_and_h(x1,y1,x2,y2,x3,y3,x4,y4):\n",
        "    w = math.sqrt((x2-x1)**2+(y2-y1)**2)\n",
        "    h = math.sqrt((x1-x3)**2+(y1-y3)**2)\n",
        "    return w,h\n",
        "\n",
        "def get_x_and_y(x1,y1,x2,y2,x3,y3,x4,y4,theta,w,h):\n",
        "    cx = (x2+x3)/2\n",
        "    cy = (y2+y3)/2\n",
        "    x = cx - w/2\n",
        "    y = cy - h/2\n",
        "    return x,y,cx,cy\n",
        "\n",
        "\n",
        "# labels = [os.path.join('./runs/obb/predict/labels', x) for x in os.listdir('./runs/obb/predict/labels') if x[-3:] == \"txt\"]\n",
        "labels = [os.path.join('/home/oscar/Stomata/BerlinHUYoloStomata/datasets/labels/val', x) for x in os.listdir('/home/oscar/Stomata/BerlinHUYoloStomata/datasets/labels/val') if x[-3:] == \"txt\"]\n",
        "#labelsname = [f for f in os.listdir('./runs/obb/predict/labels')]\n",
        "\n",
        "labels.sort()\n",
        "#labelsname.sort()\n",
        "\n",
        "# Convert and save the annotations\n",
        "\n",
        "class_name_to_id_mapping = {\"complete\": 0,\n",
        "                \"incomplete\": 1,\n",
        "                           \"blurry.complete\": 2,\n",
        "                           \"blurry.incomplete\" :3 ,\n",
        "                           \"hair\":4\n",
        "                           } # human hair\n",
        "\n",
        "id_to_class_name_mapping = dict(zip(class_name_to_id_mapping.values(), class_name_to_id_mapping.keys()))\n",
        "\n",
        "\n",
        "df = pd.DataFrame(columns=[ 'class' ,'boundingbox_x' , 'boundingbox_y','boundingbox_width' ,'boundingbox_height' , 'angle' , 'confidence', 'File Name' ])\n",
        "\n",
        "# Read txt label file\n",
        "for name in labels:\n",
        "    fr_line = open(name)\n",
        "    for bbox_line in fr_line.readlines():\n",
        "            info = bbox_line.strip().split(' ')\n",
        "            cls= int(info[0])\n",
        "            x1,y1,x2,y2,x3,y3,x4,y4 = float(info[1]) , float(info[2]) , float(info[3]) , float(info[4]) , float(info[5]) , float(info[6]) , float(info[7]) , float(info[8])\n",
        "            conf = float(info[8])\n",
        "            file_name = name.split('/')[-1]\n",
        "            angle,theta = get_angle(x1,y1,x2,y2,x3,y3,x4,y4)\n",
        "            w,h = get_w_and_h(x1,y1,x2,y2,x3,y3,x4,y4)\n",
        "            x,y,cx,cy = get_x_and_y(x1,y1,x2,y2,x3,y3,x4,y4,theta,w,h)\n",
        "            new_row = {'class': id_to_class_name_mapping[cls] , 'boundingbox_x' : cx, 'boundingbox_y' : cy , 'boundingbox_width' : w, 'boundingbox_height' : h, 'angle': angle, 'confidence' : conf , 'File Name' : file_name }\n",
        "            df.loc[len(df)] = new_row\n",
        "\n",
        "\n",
        "\n",
        "# Save the Dataframe to csv file\n",
        "save_name = './Results.csv'\n",
        "df.to_csv(save_name , encoding = 'utf-8' ,index = False)\n"
      ]
    },
    {
      "cell_type": "markdown",
      "metadata": {
        "id": "DBuVVPBZKiQa"
      },
      "source": [
        "# Converting Ground Truth files (.xml to .txt)\n",
        "If your ground truth annotations are still in XML format and not yet converted to YOLO .txt, you must run this script first as YOLO models require .txt labels in the proper format for both training and evaluation.\n",
        "\n",
        "To convert your annotated XML files into YOLO-compatible `.txt` format with rotated bounding boxes, please make sure that your files are organized as the instructions below in your working directory.\n",
        "\n",
        "#### Prepare the Folder Structure\n",
        "\n",
        "Make sure your directories are organized as follows:\n",
        "``` bash\n",
        "Xml_to_Yolotxt/\n",
        "├── xml/        # Place your XML annotation files here\n",
        "└── Yolotxt/    # The output .txt files will be saved here\n",
        "```"
      ]
    },
    {
      "cell_type": "code",
      "execution_count": null,
      "metadata": {},
      "outputs": [],
      "source": [
        "# Get the list of files in the directory \n",
        "fr = os.listdir('./Xml_to_Yolotxt/xml')"
      ]
    },
    {
      "cell_type": "code",
      "execution_count": null,
      "metadata": {},
      "outputs": [],
      "source": [
        "#coding:utf-8\n",
        "\n",
        "\n",
        "\"\"\"\n",
        "<object>\n",
        "    <type>robndbox</type>\n",
        "    <name>wenben</name>\n",
        "    <pose>Unspecified</pose>\n",
        "    <truncated>0</truncated>\n",
        "    <difficult>0</difficult>\n",
        "    <robndbox>\n",
        "        <cx>860.5666</cx>\n",
        "        <cy>734.5734</cy>\n",
        "        <w>644.8657</w>\n",
        "        <h>52.3775</h>\n",
        "        <angle>3.031593</angle>\n",
        "    </robndbox>\n",
        "</object>\n",
        "cx and cy represent the coordinates of the center point of the bndbox (the upper left corner of the coordinate system is the origin, \n",
        "the right is the positive x direction, and the downward is the positive y direction); h and w are the height and width of the character block; \n",
        "angle is the rotation angle information. It should be noted here that the rotation angle value obtained by the roLabelImg annotation is as follows: \n",
        "first, draw a horizontal bndbox, angle = 0 at this time. If you rotate clockwise, the angle value obtained is a positive value of a radian unit. \n",
        "According to this idea, if you rotate counterclockwise, the angle value obtained should be a negative value of a radian unit, but this is not the case. \n",
        "For example, in the example above, the actual angle should be rotated a little counterclockwise, but the angle value obtained is 3.081593, \n",
        "which is also a positive value. Assuming that the angle is negative when rotating counterclockwise, then its angle theta should be: theta = angle-pi,\n",
        "\"\"\"\n",
        "\n",
        "import os\n",
        "import numpy as np\n",
        "\n",
        "try:\n",
        "    import xml.etree.cElementTree as ET\n",
        "except ImportError:\n",
        "    import xml.etree.ElementTree as ET\n",
        "import sys\n",
        "\n",
        "import math\n",
        "\n",
        "\n",
        "def rotate(angle, x, y):\n",
        "    \"\"\"\n",
        "    \n",
        "    :param angle:   radian\n",
        "    :param x:       x\n",
        "    :param y:       y\n",
        "    :return:\n",
        "    \"\"\"\n",
        "    rotatex = math.cos(angle) * x - math.sin(angle) * y\n",
        "    rotatey = math.cos(angle) * y + math.sin(angle) * x\n",
        "    return rotatex, rotatey\n",
        "\n",
        "def xy_rorate(theta, x, y, centerx, centery):\n",
        "    \"\"\"\n",
        "    \n",
        "    :param theta:\n",
        "    :param x:\n",
        "    :param y:\n",
        "    :param centerx:\n",
        "    :param centery:\n",
        "    :return:\n",
        "    \"\"\"\n",
        "    r_x, r_y = rotate(theta, x - centerx, y - centery)\n",
        "    return centerx+r_x, centery+r_y\n",
        "\n",
        "def rec_rotate(x, y, width, height, theta):\n",
        "    \"\"\"\n",
        "    \n",
        "    :param x:\n",
        "    :param y:\n",
        "    :param width:\n",
        "    :param height:\n",
        "    :param theta:\n",
        "    :return:\n",
        "    \"\"\"\n",
        "    centerx = x + width / 2\n",
        "    centery = y + height / 2\n",
        "\n",
        "    x1, y1 = xy_rorate(theta, x, y, centerx, centery)\n",
        "    x2, y2 = xy_rorate(theta, x+width, y, centerx, centery)\n",
        "    x3, y3 = xy_rorate(theta, x, y+height, centerx, centery)\n",
        "    x4, y4 = xy_rorate(theta, x+width, y+height, centerx, centery)\n",
        "\n",
        "    return x1, y1, x2, y2, x4, y4,x3, y3\n",
        "\n",
        "\n",
        "def test(x,y,cx,cy,theta):\n",
        "    x1_test = cx+(x-cx)*math.cos(theta)-(y-cy)*math.sin(theta)\n",
        "    y1_test = cy+(y-cy)*math.cos(theta)+(x-cx)*math.sin(theta)\n",
        "    print('x1_testx1_testx1_testx1_testx1_test',x1_test)\n",
        "    print('y1_testy1_testy1_testy1_testy1_test',y1_test)\n",
        "\n",
        "\n",
        "PATH = './Xml_to_Yolotxt/'\n",
        "\n",
        "\n",
        "\n",
        "class_name_to_id_mapping = {\"complete\": 0,\n",
        "                \"incomplete\": 1,\n",
        "                \"blurry.complete\": 2,\n",
        "                \"blurry.incomplete\" :3 ,\n",
        "                \"hair\":4\n",
        "                } # \n",
        "\n",
        "\n",
        "xml_path = os.path.join(PATH +'/xml/')\n",
        "#print(xml_path)\n",
        "txt_path = os.path.join(PATH + '/Yolotxt/')\n",
        "# print(xml_path)\n",
        "\n",
        "for line in fr:\n",
        "    if line:\n",
        "        tree = ET.parse(os.path.join(xml_path,line.strip()))     # open xml file\n",
        "        root = tree.getroot()         # get root node\n",
        "        filename = root.find('filename').text\n",
        "        file_object = open(os.path.join(txt_path,filename + \".txt\"), 'w') # write txt file\n",
        "        # file_object_log = open(filename + \".log\", 'w') #write log file\n",
        "        flag = False\n",
        "\n",
        "    for size in root.findall('size'): #\n",
        "        width = int(size.find('width').text)   #\n",
        "        height = int(size.find('height').text)   #\n",
        "\n",
        "    for object in root.findall('object'): #\n",
        "        name = object.find('name').text\n",
        "        robndbox = object.find('robndbox')\n",
        "        print(filename)\n",
        "        cx = float(robndbox.find('cx').text)\n",
        "        cy = float(robndbox.find('cy').text)\n",
        "        w = float(robndbox.find('w').text)\n",
        "        h = float(robndbox.find('h').text)\n",
        "        angle = float(robndbox.find('angle').text)\n",
        "\n",
        "        x = cx - w/2\n",
        "        y = cy - h/2\n",
        "        if angle<1.57:\n",
        "            theta = round(angle, 6)\n",
        "        else:\n",
        "            theta = round(angle - np.pi, 6)\n",
        "        x1, y1, x2, y2, x4, y4,x3, y3 = rec_rotate(x, y, w, h, theta)\n",
        "        x1,y1,x2,y2,x4,y4,x3,y3 = int(x1) / width,int(y1) / height,int(x2) / width ,int(y2) / height ,int(x4) /width,int(y4) / height,int(x3) / width,int(y3) /height\n",
        "        #print(filename, x1, y1, x2, y2, x4, y4,x3, y3)\n",
        "\n",
        "        test(x,y,cx,cy,theta)\n",
        "\n",
        "        file_object.write(str(class_name_to_id_mapping[name]) + ' '+ str(x1)+' '+str(y1)+' '+str(x2)+' '+str(y2)+' '+str(x4)+' '+str(y4)+' '+str(x3)+' '+str(y3))\n",
        "        file_object.write('\\n')\n",
        "    file_object.close()"
      ]
    },
    {
      "cell_type": "markdown",
      "metadata": {},
      "source": [
        "# Train the model"
      ]
    },
    {
      "cell_type": "markdown",
      "metadata": {},
      "source": [
        "To train and validate the model, make sure your dataset is organized in the following structure under your working directory:\n",
        "``` bash\n",
        "datasets/\n",
        "├── images/\n",
        "│ ├── train/    # Training images\n",
        "│ └── val/      # Validation images\n",
        "├── labels/\n",
        "│ ├── train/    # Corresponding YOLO-format label files for training images\n",
        "│ └── val/      # Corresponding YOLO-format label files for validation images\n",
        "```"
      ]
    },
    {
      "cell_type": "code",
      "execution_count": null,
      "metadata": {},
      "outputs": [],
      "source": [
        "from ultralytics import YOLO\n",
        "\n",
        "\n",
        "# Initialize model\n",
        "model = YOLO('./runs/obb/BerlinHU-T22Without2/weights/best.pt')\n",
        "\n",
        "# Train the model\n",
        "model.train(data='./validBerlinHU.yaml', epochs=1300, name = 'BerlinHU-T22Without', batch=8)"
      ]
    },
    {
      "cell_type": "markdown",
      "metadata": {
        "id": "cWyX65RCssIn"
      },
      "source": [
        "# Validate the model\n",
        "\n",
        "The validation result will save in colab file ./BerlinHUYoloStomata/ultralytics/runs/obb/val\n"
      ]
    },
    {
      "cell_type": "code",
      "execution_count": null,
      "metadata": {
        "id": "BBAEnd_mr5yK"
      },
      "outputs": [],
      "source": [
        "from ultralytics import YOLO\n",
        "\n",
        "\n",
        "model = YOLO('./runs/obb/BerlinHU-T22Without2/weights/best.pt')\n",
        "\n",
        "metric = model.val(data = './validBerlinHU.yaml')\n",
        "\n",
        "\n",
        "print(\"mAP: \",metric.box.map)         # mAP@0.5:0.95\n",
        "print(\"mAP50: \",metric.box.map50)      # mAP@0.5\n",
        "print(\"f1 score: \",metric.box.f1)         # F1-scored\n"
      ]
    }
  ],
  "metadata": {
    "accelerator": "GPU",
    "colab": {
      "gpuType": "T4",
      "provenance": []
    },
    "kernelspec": {
      "display_name": "Python 3",
      "name": "python3"
    },
    "language_info": {
      "codemirror_mode": {
        "name": "ipython",
        "version": 3
      },
      "file_extension": ".py",
      "mimetype": "text/x-python",
      "name": "python",
      "nbconvert_exporter": "python",
      "pygments_lexer": "ipython3",
      "version": "3.8.9"
    }
  },
  "nbformat": 4,
  "nbformat_minor": 0
}
