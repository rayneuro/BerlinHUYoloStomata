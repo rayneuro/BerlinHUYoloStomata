{
 "cells": [
  {
   "cell_type": "code",
   "execution_count": null,
   "metadata": {},
   "outputs": [],
   "source": [
    "# Install the pytorch and ultralytics \n",
    "%pip install -U ultralytics\n",
    "%pip install torch torchvision torchaudio\n",
    "%pip install pandas"
   ]
  },
  {
   "cell_type": "code",
   "execution_count": 5,
   "metadata": {},
   "outputs": [
    {
     "name": "stdout",
     "output_type": "stream",
     "text": [
      "Ultralytics 8.3.1 🚀 Python-3.10.13 torch-2.1.0+cu121 CUDA:0 (NVIDIA GeForce RTX 4060 Ti, 7937MiB)\n",
      "Setup complete ✅ (16 CPUs, 31.1 GB RAM, 500.3/915.3 GB disk)\n"
     ]
    }
   ],
   "source": [
    "from ultralytics import YOLO\n",
    "import ultralytics\n",
    "import pandas as pd\n",
    "from distutils.dir_util import copy_tree\n",
    "import os\n",
    "# Check  GPU  and pytorch works\n",
    "ultralytics.checks()\n"
   ]
  },
  {
   "cell_type": "code",
   "execution_count": 6,
   "metadata": {},
   "outputs": [],
   "source": [
    "model = YOLO(\"./T22without_pipeline.pt\")\n",
    "\n"
   ]
  },
  {
   "cell_type": "code",
   "execution_count": 7,
   "metadata": {},
   "outputs": [
    {
     "name": "stdout",
     "output_type": "stream",
     "text": [
      "images\n",
      "\n"
     ]
    },
    {
     "name": "stderr",
     "output_type": "stream",
     "text": [
      "/home/ray/.local/lib/python3.10/site-packages/tqdm/auto.py:21: TqdmWarning: IProgress not found. Please update jupyter and ipywidgets. See https://ipywidgets.readthedocs.io/en/stable/user_install.html\n",
      "  from .autonotebook import tqdm as notebook_tqdm\n"
     ]
    },
    {
     "name": "stdout",
     "output_type": "stream",
     "text": [
      "image 1/1 /home/ray/BerlinHUYoloStomata/images/T16L600_W1_GC1_R2_P74_g55_3.jpg: 768x1024 126.6ms\n",
      "Speed: 6.8ms preprocess, 126.6ms inference, 203.3ms postprocess per image at shape (1, 3, 768, 1024)\n",
      "Results saved to \u001b[1m/home/ray/BerlinHUYoloStomata/runs/obb/predict\u001b[0m\n",
      "1 label saved to /home/ray/BerlinHUYoloStomata/runs/obb/predict/labels\n"
     ]
    }
   ],
   "source": [
    "from tkinter.filedialog import askdirectory\n",
    "\n",
    "#Use GUI Select Folder\n",
    "# Put the images you want to predict in the folder\n",
    "path = askdirectory(title='Select Folder')\n",
    "print(path.split('/')[-1])\n",
    "\n",
    "\n",
    "result = model.predict(path,save = True, save_txt = True ,save_conf = True, show_conf = False )\n",
    "\n",
    "\n",
    "\n",
    "\n",
    "#model.predict('')\n",
    "# Example usage\n",
    "#path_to_search = \"runs/obb/\"\n",
    "#newest_folder = get_newest_folder(path_to_search)\n",
    "\n",
    "#labels = [os.path.join(path_to_search+newest_folder+'/labels', x) for x in os.listdir(path_to_search+newest_folder+'/labels') if x[-3:] == \"txt\"]\n",
    "#labels.sort()\n",
    "\n"
   ]
  },
  {
   "cell_type": "markdown",
   "metadata": {},
   "source": [
    "\n",
    "# Converting YOLOv8 OBB Format `.txt` Files to `.csv`\n",
    "\n",
    "This guide explains how to convert YOLOv8 Oriented Bounding Box (OBB) format `.txt` files into a `.csv` file format for easier analysis or processing.\n",
    "\n",
    "## YOLOv8 OBB `.txt` File Format\n",
    "\n",
    "In the YOLOv8 OBB `.txt` format, each line in the file corresponds to a detected object in an image, with the following structure:\n",
    "\n",
    "Where:\n",
    "- `class_id`: The class label of the detected object.\n",
    "- `x1, y1`, `x2, y2`, `x3, y3`, `x4, y4`: The coordinates of the four corners of the oriented bounding box.\n",
    "- `confidence`: The confidence score of the detection.\n",
    "\n",
    "\n",
    "Convert to\n",
    "- `center x` , `center y` : The center of the rotated bounding box\n",
    "- `w` , `h` : the width and height of rotated bounding box  \n",
    "- `angle` : the angle of rotate\n",
    "\n",
    "The final output file is Result.csv"
   ]
  },
  {
   "cell_type": "code",
   "execution_count": 8,
   "metadata": {},
   "outputs": [],
   "source": [
    "\n",
    "import os\n",
    "import pandas as pd\n",
    "import math\n",
    "import numpy as np\n",
    "\n",
    "# Function to convert the coordinate to cx ,cy , h , w\n",
    "def get_angle(x1,y1,x2,y2,x3,y3,x4,y4):\n",
    "    if x2-x1 != 0 and x4-x3 != 0:\n",
    "        theta = (math.atan((y2-y1)/(x2-x1)) + math.atan((y4-y3)/(x4-x3)))/2\n",
    "    else:\n",
    "        theta = np.pi/2\n",
    "\n",
    "    if theta >= 0:\n",
    "        angle = theta\n",
    "    else:\n",
    "        angle = theta + np.pi\n",
    "    return angle,theta\n",
    "\n",
    "\n",
    "def get_w_and_h(x1,y1,x2,y2,x3,y3,x4,y4):\n",
    "    w = math.sqrt((x2-x1)**2+(y2-y1)**2)\n",
    "    h = math.sqrt((x1-x3)**2+(y1-y3)**2)\n",
    "    return w,h\n",
    "\n",
    "def get_x_and_y(x1,y1,x2,y2,x3,y3,x4,y4,theta,w,h):\n",
    "    cx = (x2+x3)/2\n",
    "    cy = (y2+y3)/2\n",
    "    x = cx - w/2\n",
    "    y = cy - h/2\n",
    "    return x,y,cx,cy\n",
    "\n",
    "\n",
    "labels = [os.path.join('./runs/obb/predict/labels', x) for x in os.listdir('./runs/obb/predict/labels') if x[-3:] == \"txt\"]\n",
    "#labelsname = [f for f in os.listdir('./runs/obb/predict/labels')]\n",
    "\n",
    "labels.sort()\n",
    "#labelsname.sort()\n",
    "\n",
    "# Convert and save the annotations\n",
    "\n",
    "class_name_to_id_mapping = {\"complete\": 0,\n",
    "                \"incomplete\": 1,\n",
    "                           \"blurry.complete\": 2,\n",
    "                           \"blurry.incomplete\" :3 ,\n",
    "                           \"hair\":4\n",
    "                           } # human hair\n",
    "\n",
    "id_to_class_name_mapping = dict(zip(class_name_to_id_mapping.values(), class_name_to_id_mapping.keys()))\n",
    "\n",
    "\n",
    "df = pd.DataFrame(columns=[ 'class' ,'boundingbox_x' , 'boundingbox_y','boundingbox_width' ,'boundingbox_height' , 'angle' , 'confidence', 'File Name' ])\n",
    "\n",
    "# Read txt label file\n",
    "for name in labels:\n",
    "    fr_line = open(name)\n",
    "    for bbox_line in fr_line.readlines():\n",
    "            info = bbox_line.strip().split(' ')\n",
    "            cls= int(info[0])\n",
    "            x1,y1,x2,y2,x3,y3,x4,y4 = float(info[1]) , float(info[2]) , float(info[3]) , float(info[4]) , float(info[5]) , float(info[6]) , float(info[7]) , float(info[8])\n",
    "            conf = float(info[9])\n",
    "            file_name = name.split('/')[-1]\n",
    "            angle,theta = get_angle(x1,y1,x2,y2,x3,y3,x4,y4)\n",
    "            w,h = get_w_and_h(x1,y1,x2,y2,x3,y3,x4,y4)\n",
    "            x,y,cx,cy = get_x_and_y(x1,y1,x2,y2,x3,y3,x4,y4,theta,w,h)\n",
    "            new_row = {'class': id_to_class_name_mapping[cls] , 'boundingbox_x' : cx, 'boundingbox_y' : cy , 'boundingbox_width' : w, 'boundingbox_height' : h, 'angle': angle, 'confidence' : conf , 'File Name' : file_name }\n",
    "            df.loc[len(df)] = new_row\n",
    "\n",
    "\n",
    "\n",
    "\n",
    "\n",
    "\n",
    "# Save the Dataframe to csv file\n",
    "#save_name = './Results.csv'\n",
    "df.to_csv( './result/Ntu/'+path.split('/')[-1]+'.csv', encoding = 'utf-8' ,index = False)"
   ]
  }
 ],
 "metadata": {
  "kernelspec": {
   "display_name": "Yolov8Stomata",
   "language": "python",
   "name": "python3"
  },
  "language_info": {
   "codemirror_mode": {
    "name": "ipython",
    "version": 3
   },
   "file_extension": ".py",
   "mimetype": "text/x-python",
   "name": "python",
   "nbconvert_exporter": "python",
   "pygments_lexer": "ipython3",
   "version": "3.10.13"
  }
 },
 "nbformat": 4,
 "nbformat_minor": 2
}
