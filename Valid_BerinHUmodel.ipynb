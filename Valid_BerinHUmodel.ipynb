{
 "cells": [
  {
   "cell_type": "code",
   "execution_count": null,
   "metadata": {},
   "outputs": [],
   "source": [
    "# Install the pytorch and ultralytics \n",
    "%pip install -U ultralytics\n",
    "%pip install torch torchvision torchaudio\n",
    "%pip install pandas"
   ]
  },
  {
   "cell_type": "code",
   "execution_count": 2,
   "metadata": {},
   "outputs": [
    {
     "name": "stdout",
     "output_type": "stream",
     "text": [
      "Ultralytics 8.3.1 🚀 Python-3.10.13 torch-2.1.0+cu121 CUDA:0 (NVIDIA GeForce RTX 4060 Ti, 7937MiB)\n",
      "Setup complete ✅ (16 CPUs, 31.1 GB RAM, 501.5/915.3 GB disk)\n"
     ]
    }
   ],
   "source": [
    "import ultralytics \n",
    "#import cv2\n",
    "import pandas as pd\n",
    "from distutils.dir_util import copy_tree\n",
    "import os\n",
    "# Check  GPU  and pytorch works\n",
    "ultralytics.checks()\n",
    "\n",
    "# It should list GPU device ex:  \n",
    "# Ultralytics YOLOv8.1.0 🚀 Python-3.10.13 torch-2.1.0+cu121 CUDA:0 (NVIDIA GeForce RTX 4060 Ti, 7937MiB)\n",
    "# Setup complete ✅ (16 CPUs, 31.1 GB RAM, 358.8/915.3 GB disk)"
   ]
  },
  {
   "cell_type": "markdown",
   "metadata": {},
   "source": [
    "# XML File Placement Guide\n",
    "\n",
    "To ensure proper functionality, please place the required XML file in the designated folder following these steps:\n",
    "\n",
    "1. **Locate the XML File**  \n",
    "   Ensure that you have the XML file you need to upload. This file contains essential data for the application to operate correctly.\n",
    "\n",
    "2. **Navigate to the Designated Folder**  \n",
    "   Open your file explorer and navigate to the following path:\n"
   ]
  },
  {
   "cell_type": "code",
   "execution_count": 10,
   "metadata": {},
   "outputs": [
    {
     "name": "stdout",
     "output_type": "stream",
     "text": [
      "['T16L600_W1_GC1_R2_P74_g55_3.xml']\n"
     ]
    }
   ],
   "source": [
    "\n",
    "# Ge the list of files in the directory \n",
    "fr = os.listdir('./Xml_to_Yolotxt/xml')\n"
   ]
  },
  {
   "cell_type": "code",
   "execution_count": 14,
   "metadata": {},
   "outputs": [
    {
     "name": "stdout",
     "output_type": "stream",
     "text": [
      "./Xml_to_Yolotxt//xml/\n",
      "T16L600_W1_GC1_R2_P74_g55_3\n",
      "x1_testx1_testx1_testx1_testx1_test 265.0\n",
      "y1_testy1_testy1_testy1_testy1_test 42.0\n",
      "T16L600_W1_GC1_R2_P74_g55_3\n",
      "x1_testx1_testx1_testx1_testx1_test 615.0\n",
      "y1_testy1_testy1_testy1_testy1_test 48.0\n",
      "T16L600_W1_GC1_R2_P74_g55_3\n",
      "x1_testx1_testx1_testx1_testx1_test 1019.0\n",
      "y1_testy1_testy1_testy1_testy1_test 74.0\n",
      "T16L600_W1_GC1_R2_P74_g55_3\n",
      "x1_testx1_testx1_testx1_testx1_test 1435.0\n",
      "y1_testy1_testy1_testy1_testy1_test 70.0\n",
      "T16L600_W1_GC1_R2_P74_g55_3\n",
      "x1_testx1_testx1_testx1_testx1_test 1995.0\n",
      "y1_testy1_testy1_testy1_testy1_test 60.0\n",
      "T16L600_W1_GC1_R2_P74_g55_3\n",
      "x1_testx1_testx1_testx1_testx1_test 2398.0\n",
      "y1_testy1_testy1_testy1_testy1_test 75.99995000000001\n",
      "T16L600_W1_GC1_R2_P74_g55_3\n",
      "x1_testx1_testx1_testx1_testx1_test 199.30581191452197\n",
      "y1_testy1_testy1_testy1_testy1_test 515.1068188234173\n",
      "T16L600_W1_GC1_R2_P74_g55_3\n",
      "x1_testx1_testx1_testx1_testx1_test 1001.0\n",
      "y1_testy1_testy1_testy1_testy1_test 500.0\n",
      "T16L600_W1_GC1_R2_P74_g55_3\n",
      "x1_testx1_testx1_testx1_testx1_test 1475.0\n",
      "y1_testy1_testy1_testy1_testy1_test 512.0\n",
      "T16L600_W1_GC1_R2_P74_g55_3\n",
      "x1_testx1_testx1_testx1_testx1_test 1823.0\n",
      "y1_testy1_testy1_testy1_testy1_test 512.0\n",
      "T16L600_W1_GC1_R2_P74_g55_3\n",
      "x1_testx1_testx1_testx1_testx1_test 2237.0\n",
      "y1_testy1_testy1_testy1_testy1_test 512.0\n",
      "T16L600_W1_GC1_R2_P74_g55_3\n",
      "x1_testx1_testx1_testx1_testx1_test 267.0\n",
      "y1_testy1_testy1_testy1_testy1_test 1104.0\n",
      "T16L600_W1_GC1_R2_P74_g55_3\n",
      "x1_testx1_testx1_testx1_testx1_test 543.0\n",
      "y1_testy1_testy1_testy1_testy1_test 1106.0\n",
      "T16L600_W1_GC1_R2_P74_g55_3\n",
      "x1_testx1_testx1_testx1_testx1_test 1045.0\n",
      "y1_testy1_testy1_testy1_testy1_test 1098.0\n",
      "T16L600_W1_GC1_R2_P74_g55_3\n",
      "x1_testx1_testx1_testx1_testx1_test 1605.0\n",
      "y1_testy1_testy1_testy1_testy1_test 1098.0\n",
      "T16L600_W1_GC1_R2_P74_g55_3\n",
      "x1_testx1_testx1_testx1_testx1_test 2065.0\n",
      "y1_testy1_testy1_testy1_testy1_test 1098.0\n",
      "T16L600_W1_GC1_R2_P74_g55_3\n",
      "x1_testx1_testx1_testx1_testx1_test 2395.0\n",
      "y1_testy1_testy1_testy1_testy1_test 1102.0\n",
      "T16L600_W1_GC1_R2_P74_g55_3\n",
      "x1_testx1_testx1_testx1_testx1_test 211.0\n",
      "y1_testy1_testy1_testy1_testy1_test 1590.0\n",
      "T16L600_W1_GC1_R2_P74_g55_3\n",
      "x1_testx1_testx1_testx1_testx1_test 573.0\n",
      "y1_testy1_testy1_testy1_testy1_test 1580.0\n",
      "T16L600_W1_GC1_R2_P74_g55_3\n",
      "x1_testx1_testx1_testx1_testx1_test 1095.0\n",
      "y1_testy1_testy1_testy1_testy1_test 1576.0\n",
      "T16L600_W1_GC1_R2_P74_g55_3\n",
      "x1_testx1_testx1_testx1_testx1_test 1479.0\n",
      "y1_testy1_testy1_testy1_testy1_test 1574.0\n",
      "T16L600_W1_GC1_R2_P74_g55_3\n",
      "x1_testx1_testx1_testx1_testx1_test 2027.0\n",
      "y1_testy1_testy1_testy1_testy1_test 1560.0\n",
      "T16L600_W1_GC1_R2_P74_g55_3\n",
      "x1_testx1_testx1_testx1_testx1_test 2474.0\n",
      "y1_testy1_testy1_testy1_testy1_test 1556.0\n"
     ]
    }
   ],
   "source": [
    "#coding:utf-8\n",
    "\n",
    "\n",
    "\"\"\"\n",
    "<object>\n",
    "    <type>robndbox</type>\n",
    "    <name>wenben</name>\n",
    "    <pose>Unspecified</pose>\n",
    "    <truncated>0</truncated>\n",
    "    <difficult>0</difficult>\n",
    "    <robndbox>\n",
    "        <cx>860.5666</cx>\n",
    "        <cy>734.5734</cy>\n",
    "        <w>644.8657</w>\n",
    "        <h>52.3775</h>\n",
    "        <angle>3.031593</angle>\n",
    "    </robndbox>\n",
    "</object>\n",
    "cx and cy represent the coordinates of the center point of the bndbox (the upper left corner of the coordinate system is the origin, \n",
    "the right is the positive x direction, and the downward is the positive y direction); h and w are the height and width of the character block; \n",
    "angle is the rotation angle information. It should be noted here that the rotation angle value obtained by the roLabelImg annotation is as follows: \n",
    "first, draw a horizontal bndbox, angle = 0 at this time. If you rotate clockwise, the angle value obtained is a positive value of a radian unit. \n",
    "According to this idea, if you rotate counterclockwise, the angle value obtained should be a negative value of a radian unit, but this is not the case. \n",
    "For example, in the example above, the actual angle should be rotated a little counterclockwise, but the angle value obtained is 3.081593, \n",
    "which is also a positive value. Assuming that the angle is negative when rotating counterclockwise, then its angle theta should be: theta = angle-pi,\n",
    "\"\"\"\n",
    "\n",
    "import os\n",
    "import numpy as np\n",
    "\n",
    "try:\n",
    "    import xml.etree.cElementTree as ET\n",
    "except ImportError:\n",
    "    import xml.etree.ElementTree as ET\n",
    "import sys\n",
    "\n",
    "import math\n",
    "\n",
    "\n",
    "def rotate(angle, x, y):\n",
    "    \"\"\"\n",
    "    \n",
    "    :param angle:   radian\n",
    "    :param x:       x\n",
    "    :param y:       y\n",
    "    :return:\n",
    "    \"\"\"\n",
    "    rotatex = math.cos(angle) * x - math.sin(angle) * y\n",
    "    rotatey = math.cos(angle) * y + math.sin(angle) * x\n",
    "    return rotatex, rotatey\n",
    "\n",
    "def xy_rorate(theta, x, y, centerx, centery):\n",
    "    \"\"\"\n",
    "    \n",
    "    :param theta:\n",
    "    :param x:\n",
    "    :param y:\n",
    "    :param centerx:\n",
    "    :param centery:\n",
    "    :return:\n",
    "    \"\"\"\n",
    "    r_x, r_y = rotate(theta, x - centerx, y - centery)\n",
    "    return centerx+r_x, centery+r_y\n",
    "\n",
    "def rec_rotate(x, y, width, height, theta):\n",
    "    \"\"\"\n",
    "    \n",
    "    :param x:\n",
    "    :param y:\n",
    "    :param width:\n",
    "    :param height:\n",
    "    :param theta:\n",
    "    :return:\n",
    "    \"\"\"\n",
    "    centerx = x + width / 2\n",
    "    centery = y + height / 2\n",
    "\n",
    "    x1, y1 = xy_rorate(theta, x, y, centerx, centery)\n",
    "    x2, y2 = xy_rorate(theta, x+width, y, centerx, centery)\n",
    "    x3, y3 = xy_rorate(theta, x, y+height, centerx, centery)\n",
    "    x4, y4 = xy_rorate(theta, x+width, y+height, centerx, centery)\n",
    "\n",
    "    return x1, y1, x2, y2, x4, y4,x3, y3\n",
    "\n",
    "\n",
    "def test(x,y,cx,cy,theta):\n",
    "    x1_test = cx+(x-cx)*math.cos(theta)-(y-cy)*math.sin(theta)\n",
    "    y1_test = cy+(y-cy)*math.cos(theta)+(x-cx)*math.sin(theta)\n",
    "    print('x1_testx1_testx1_testx1_testx1_test',x1_test)\n",
    "    print('y1_testy1_testy1_testy1_testy1_test',y1_test)\n",
    "\n",
    "\n",
    "PATH = './Xml_to_Yolotxt/'\n",
    "\n",
    "\n",
    "\n",
    "class_name_to_id_mapping = {\"complete\": 0,\n",
    "                \"incomplete\": 1,\n",
    "                \"blurry.complete\": 2,\n",
    "                \"blurry.incomplete\" :3 ,\n",
    "                \"hair\":4\n",
    "                } # \n",
    "\n",
    "\n",
    "xml_path = os.path.join(PATH +'/xml/')\n",
    "#print(xml_path)\n",
    "txt_path = os.path.join(PATH + '/Yolotxt/')\n",
    "# print(xml_path)\n",
    "\n",
    "for line in fr:\n",
    "    if line:\n",
    "        tree = ET.parse(os.path.join(xml_path,line.strip()))     # open xml file\n",
    "        root = tree.getroot()         # get root node\n",
    "        filename = root.find('filename').text\n",
    "        file_object = open(os.path.join(txt_path,filename + \".txt\"), 'w') # write txt file\n",
    "        # file_object_log = open(filename + \".log\", 'w') #write log file\n",
    "        flag = False\n",
    "\n",
    "    for size in root.findall('size'): #\n",
    "        width = int(size.find('width').text)   #\n",
    "        height = int(size.find('height').text)   #\n",
    "\n",
    "    for object in root.findall('object'): #\n",
    "        name = object.find('name').text\n",
    "        robndbox = object.find('robndbox')\n",
    "        print(filename)\n",
    "        cx = float(robndbox.find('cx').text)\n",
    "        cy = float(robndbox.find('cy').text)\n",
    "        w = float(robndbox.find('w').text)\n",
    "        h = float(robndbox.find('h').text)\n",
    "        angle = float(robndbox.find('angle').text)\n",
    "\n",
    "        x = cx - w/2\n",
    "        y = cy - h/2\n",
    "        if angle<1.57:\n",
    "            theta = round(angle, 6)\n",
    "        else:\n",
    "            theta = round(angle - np.pi, 6)\n",
    "        x1, y1, x2, y2, x4, y4,x3, y3 = rec_rotate(x, y, w, h, theta)\n",
    "        x1,y1,x2,y2,x4,y4,x3,y3 = int(x1) / width,int(y1) / height,int(x2) / width ,int(y2) / height ,int(x4) /width,int(y4) / height,int(x3) / width,int(y3) /height\n",
    "        #print(filename, x1, y1, x2, y2, x4, y4,x3, y3)\n",
    "\n",
    "        test(x,y,cx,cy,theta)\n",
    "\n",
    "        file_object.write(str(class_name_to_id_mapping[name]) + ' '+ str(x1)+' '+str(y1)+' '+str(x2)+' '+str(y2)+' '+str(x4)+' '+str(y4)+' '+str(x3)+' '+str(y3))\n",
    "        file_object.write('\\n')\n",
    "    file_object.close()"
   ]
  },
  {
   "cell_type": "markdown",
   "metadata": {},
   "source": [
    "# Valid Pipeline\n",
    "\n",
    "### The default path for valid images and labels is specified in validBerlinHU.yaml"
   ]
  },
  {
   "cell_type": "code",
   "execution_count": 19,
   "metadata": {},
   "outputs": [
    {
     "name": "stdout",
     "output_type": "stream",
     "text": [
      "Ultralytics 8.3.1 🚀 Python-3.10.13 torch-2.1.0+cu121 CUDA:0 (NVIDIA GeForce RTX 4060 Ti, 7937MiB)\n",
      "YOLOv8m-obb summary (fused): 255 layers, 23,766,034 parameters, 0 gradients, 69.6 GFLOPs\n"
     ]
    },
    {
     "name": "stderr",
     "output_type": "stream",
     "text": [
      "\u001b[34m\u001b[1mval: \u001b[0mScanning /home/ray/BerlinHUYoloStomata/dataset/labels/val... 1 images, 0 backgrounds, 0 corrupt: 100%|██████████| 1/1 [00:00<00:00, 351.84it/s]"
     ]
    },
    {
     "name": "stdout",
     "output_type": "stream",
     "text": [
      "\u001b[34m\u001b[1mval: \u001b[0mNew cache created: /home/ray/BerlinHUYoloStomata/dataset/labels/val.cache\n"
     ]
    },
    {
     "name": "stderr",
     "output_type": "stream",
     "text": [
      "\n",
      "/home/ray/.local/lib/python3.10/site-packages/tqdm/auto.py:21: TqdmWarning: IProgress not found. Please update jupyter and ipywidgets. See https://ipywidgets.readthedocs.io/en/stable/user_install.html\n",
      "  from .autonotebook import tqdm as notebook_tqdm\n",
      "                 Class     Images  Instances      Box(P          R      mAP50  mAP50-95): 100%|██████████| 1/1 [00:00<00:00,  4.67it/s]\n"
     ]
    },
    {
     "name": "stdout",
     "output_type": "stream",
     "text": [
      "                   all          1         23      0.988      0.997      0.995      0.911\n",
      "       blurry.complete          1         21          1      0.995      0.995      0.926\n",
      "     blurry.incomplete          1          2      0.975          1      0.995      0.895\n",
      "Speed: 0.5ms preprocess, 93.6ms inference, 0.0ms loss, 92.4ms postprocess per image\n",
      "Results saved to \u001b[1m/home/ray/BerlinHUYoloStomata/runs/obb/val5\u001b[0m\n"
     ]
    }
   ],
   "source": [
    "from ultralytics import YOLO\n",
    "\n",
    "model = YOLO('./T22without_pipeline.pt')\n",
    "\n",
    "metric = model.val(data = 'validBerlinHU.yaml')\n",
    "\n",
    "\n"
   ]
  }
 ],
 "metadata": {
  "kernelspec": {
   "display_name": "Yolov8Stomata",
   "language": "python",
   "name": "python3"
  },
  "language_info": {
   "codemirror_mode": {
    "name": "ipython",
    "version": 3
   },
   "file_extension": ".py",
   "mimetype": "text/x-python",
   "name": "python",
   "nbconvert_exporter": "python",
   "pygments_lexer": "ipython3",
   "version": "3.10.13"
  }
 },
 "nbformat": 4,
 "nbformat_minor": 2
}
